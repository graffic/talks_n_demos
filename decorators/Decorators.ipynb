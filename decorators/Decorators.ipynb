{
 "cells": [
  {
   "cell_type": "markdown",
   "metadata": {
    "slideshow": {
     "slide_type": "slide"
    }
   },
   "source": [
    "# ThaiPy Bangkok"
   ]
  },
  {
   "cell_type": "markdown",
   "metadata": {
    "slideshow": {
     "slide_type": "slide"
    }
   },
   "source": [
    "# Functions are objects\n"
   ]
  },
  {
   "cell_type": "code",
   "execution_count": 1,
   "metadata": {
    "collapsed": true,
    "slideshow": {
     "slide_type": "subslide"
    }
   },
   "outputs": [],
   "source": [
    "def my_function(name):\n",
    "    print(\"Hello {}\".format(name))"
   ]
  },
  {
   "cell_type": "code",
   "execution_count": 2,
   "metadata": {
    "collapsed": false,
    "slideshow": {
     "slide_type": "subslide"
    }
   },
   "outputs": [
    {
     "data": {
      "text/plain": [
       "<function __main__.my_function>"
      ]
     },
     "execution_count": 2,
     "metadata": {},
     "output_type": "execute_result"
    }
   ],
   "source": [
    "my_function"
   ]
  },
  {
   "cell_type": "code",
   "execution_count": 3,
   "metadata": {
    "collapsed": false,
    "slideshow": {
     "slide_type": "subslide"
    }
   },
   "outputs": [
    {
     "name": "stdout",
     "output_type": "stream",
     "text": [
      "Hello <function my_function at 0x10c9b5510>\n"
     ]
    }
   ],
   "source": [
    "my_function(my_function)"
   ]
  },
  {
   "cell_type": "markdown",
   "metadata": {
    "slideshow": {
     "slide_type": "subslide"
    }
   },
   "source": [
    "## A function in a function (closure)"
   ]
  },
  {
   "cell_type": "code",
   "execution_count": 25,
   "metadata": {
    "collapsed": false,
    "slideshow": {
     "slide_type": "-"
    }
   },
   "outputs": [
    {
     "name": "stdout",
     "output_type": "stream",
     "text": [
      "Hello people\n",
      "Hello python\n"
     ]
    }
   ],
   "source": [
    "def greeter(greet):\n",
    "    def action(name):\n",
    "        print(\"{} {}\".format(greet, name))\n",
    "    return action\n",
    "\n",
    "my_greeter = greeter(\"Hello\")\n",
    "my_greeter(\"people\")\n",
    "my_greeter(\"python\")"
   ]
  },
  {
   "cell_type": "code",
   "execution_count": 5,
   "metadata": {
    "collapsed": false,
    "slideshow": {
     "slide_type": "subslide"
    }
   },
   "outputs": [
    {
     "data": {
      "text/plain": [
       "<function __main__.greeter.<locals>.action>"
      ]
     },
     "execution_count": 5,
     "metadata": {},
     "output_type": "execute_result"
    }
   ],
   "source": [
    "hellower = greeter(\"Hello\")\n",
    "hellower"
   ]
  },
  {
   "cell_type": "code",
   "execution_count": 6,
   "metadata": {
    "collapsed": false,
    "slideshow": {
     "slide_type": "subslide"
    }
   },
   "outputs": [
    {
     "name": "stdout",
     "output_type": "stream",
     "text": [
      "Dear people\n",
      "Hello people\n"
     ]
    }
   ],
   "source": [
    "dearer = greeter(\"Dear\")\n",
    "dearer(\"people\")\n",
    "hellower(\"people\")"
   ]
  },
  {
   "cell_type": "markdown",
   "metadata": {
    "slideshow": {
     "slide_type": "slide"
    }
   },
   "source": [
    "# Wrapping functions aka decorators"
   ]
  },
  {
   "cell_type": "code",
   "execution_count": 7,
   "metadata": {
    "collapsed": false,
    "slideshow": {
     "slide_type": "subslide"
    }
   },
   "outputs": [
    {
     "name": "stdout",
     "output_type": "stream",
     "text": [
      "🌈🌈🌈\n",
      "Hello\n"
     ]
    }
   ],
   "source": [
    "def rainbows(original):\n",
    "    def wrapped():\n",
    "        print(\"🌈🌈🌈\")\n",
    "        original()\n",
    "    return wrapped\n",
    "\n",
    "@rainbows\n",
    "def hello():\n",
    "    print(\"Hello\")\n",
    "    \n",
    "hello()"
   ]
  },
  {
   "cell_type": "markdown",
   "metadata": {
    "slideshow": {
     "slide_type": "subslide"
    }
   },
   "source": [
    "## Decorator with a parameter"
   ]
  },
  {
   "cell_type": "code",
   "execution_count": 8,
   "metadata": {
    "collapsed": false,
    "slideshow": {
     "slide_type": "-"
    }
   },
   "outputs": [
    {
     "name": "stdout",
     "output_type": "stream",
     "text": [
      "🌈🌈🌈🌈🌈🌈🌈🌈🌈🌈🌈🌈\n",
      "Hello\n"
     ]
    }
   ],
   "source": [
    "def rainbows(amount):\n",
    "    def decorator(original):\n",
    "        def wrapped():\n",
    "            print(\"🌈\" * amount)\n",
    "            original()\n",
    "        return wrapped\n",
    "    return decorator\n",
    "\n",
    "@rainbows(12)\n",
    "def hello():\n",
    "    print(\"Hello\")\n",
    "    \n",
    "hello()"
   ]
  },
  {
   "cell_type": "markdown",
   "metadata": {
    "slideshow": {
     "slide_type": "slide"
    }
   },
   "source": [
    "# The not so nice things"
   ]
  },
  {
   "cell_type": "markdown",
   "metadata": {
    "slideshow": {
     "slide_type": "subslide"
    }
   },
   "source": [
    "## Original function arguments"
   ]
  },
  {
   "cell_type": "code",
   "execution_count": 9,
   "metadata": {
    "collapsed": false,
    "slideshow": {
     "slide_type": "-"
    }
   },
   "outputs": [
    {
     "name": "stdout",
     "output_type": "stream",
     "text": [
      "🌈🌈🌈🌈🌈🌈🌈🌈🌈🌈🌈🌈\n",
      "Hello people\n"
     ]
    }
   ],
   "source": [
    "def rainbows(amount):\n",
    "    def decorator(original):\n",
    "        def wrapped(*args, **kwds):\n",
    "            print(\"🌈\" * amount)\n",
    "            return original(*args, **kwds)\n",
    "        return wrapped\n",
    "    return decorator\n",
    "\n",
    "@rainbows(12)\n",
    "def hello(name):\n",
    "    \"\"\"Docstring\"\"\"\n",
    "    print(\"Hello {}\".format(name))\n",
    "    \n",
    "hello(\"people\")"
   ]
  },
  {
   "cell_type": "markdown",
   "metadata": {
    "slideshow": {
     "slide_type": "subslide"
    }
   },
   "source": [
    "## Original function information"
   ]
  },
  {
   "cell_type": "code",
   "execution_count": 10,
   "metadata": {
    "collapsed": false,
    "slideshow": {
     "slide_type": "-"
    }
   },
   "outputs": [
    {
     "name": "stdout",
     "output_type": "stream",
     "text": [
      "wrapped\n",
      "None\n"
     ]
    }
   ],
   "source": [
    "print(hello.__name__)\n",
    "print(hello.__doc__)"
   ]
  },
  {
   "cell_type": "code",
   "execution_count": 11,
   "metadata": {
    "collapsed": false,
    "slideshow": {
     "slide_type": "subslide"
    }
   },
   "outputs": [
    {
     "name": "stdout",
     "output_type": "stream",
     "text": [
      "hello\n",
      "Docstring\n"
     ]
    }
   ],
   "source": [
    "from functools import wraps\n",
    "\n",
    "def rainbows(amount):\n",
    "    def decorator(original):\n",
    "        @wraps(original)\n",
    "        def wrapped(*args, **kwds):\n",
    "            print(\"🌈\" * amount)\n",
    "            return original(*args, **kwds)\n",
    "        return wrapped\n",
    "    return decorator\n",
    "\n",
    "@rainbows(12)\n",
    "def hello(name):\n",
    "    \"\"\"Docstring\"\"\"\n",
    "    print(\"Hello {}\".format(name))\n",
    "    \n",
    "print(hello.__name__)\n",
    "print(hello.__doc__)"
   ]
  },
  {
   "cell_type": "markdown",
   "metadata": {
    "slideshow": {
     "slide_type": "slide"
    }
   },
   "source": [
    "# The bad"
   ]
  },
  {
   "cell_type": "markdown",
   "metadata": {
    "slideshow": {
     "slide_type": "subslide"
    }
   },
   "source": [
    "## Function signature"
   ]
  },
  {
   "cell_type": "code",
   "execution_count": 12,
   "metadata": {
    "collapsed": false,
    "slideshow": {
     "slide_type": "-"
    }
   },
   "outputs": [
    {
     "ename": "TypeError",
     "evalue": "wrapped() missing 1 required positional argument: 'name'",
     "output_type": "error",
     "traceback": [
      "\u001b[0;31m---------------------------------------------------------------------------\u001b[0m",
      "\u001b[0;31mTypeError\u001b[0m                                 Traceback (most recent call last)",
      "\u001b[0;32m<ipython-input-12-e7036a9005c2>\u001b[0m in \u001b[0;36m<module>\u001b[0;34m()\u001b[0m\n\u001b[1;32m      8\u001b[0m     \u001b[0mprint\u001b[0m\u001b[0;34m(\u001b[0m\u001b[0;34m\"Hello {}\"\u001b[0m\u001b[0;34m.\u001b[0m\u001b[0mformat\u001b[0m\u001b[0;34m(\u001b[0m\u001b[0mname\u001b[0m\u001b[0;34m)\u001b[0m\u001b[0;34m)\u001b[0m\u001b[0;34m\u001b[0m\u001b[0m\n\u001b[1;32m      9\u001b[0m \u001b[0;34m\u001b[0m\u001b[0m\n\u001b[0;32m---> 10\u001b[0;31m \u001b[0mhello\u001b[0m\u001b[0;34m(\u001b[0m\u001b[0;34m\"people\"\u001b[0m\u001b[0;34m)\u001b[0m\u001b[0;34m\u001b[0m\u001b[0m\n\u001b[0m",
      "\u001b[0;31mTypeError\u001b[0m: wrapped() missing 1 required positional argument: 'name'"
     ]
    }
   ],
   "source": [
    "def baddecorator(original):\n",
    "    def wrapped(prefix, name):\n",
    "        original(prefix + name)\n",
    "    return wrapped\n",
    "\n",
    "@baddecorator\n",
    "def hello(name):\n",
    "    print(\"Hello {}\".format(name))\n",
    "    \n",
    "hello(\"people\")"
   ]
  },
  {
   "cell_type": "markdown",
   "metadata": {
    "slideshow": {
     "slide_type": "subslide"
    }
   },
   "source": [
    "## Hidden dependencies"
   ]
  },
  {
   "cell_type": "code",
   "execution_count": 13,
   "metadata": {
    "collapsed": false,
    "slideshow": {
     "slide_type": "-"
    }
   },
   "outputs": [
    {
     "name": "stdout",
     "output_type": "stream",
     "text": [
      "Hello people\n"
     ]
    }
   ],
   "source": [
    "import requests\n",
    "\n",
    "def baddecorator2(original):\n",
    "    def wrapped(name):\n",
    "        requests.get('https://google.com',params={\"q\": name})\n",
    "        original(name)\n",
    "    return wrapped\n",
    "\n",
    "@baddecorator2\n",
    "def hello(name):\n",
    "    print(\"Hello {}\".format(name))\n",
    "    \n",
    "hello(\"people\")"
   ]
  },
  {
   "cell_type": "markdown",
   "metadata": {
    "slideshow": {
     "slide_type": "subslide"
    }
   },
   "source": [
    "## Namespace WTF"
   ]
  },
  {
   "cell_type": "code",
   "execution_count": 14,
   "metadata": {
    "collapsed": false,
    "slideshow": {
     "slide_type": "-"
    }
   },
   "outputs": [
    {
     "name": "stdout",
     "output_type": "stream",
     "text": [
      "42\n"
     ]
    }
   ],
   "source": [
    "def badbaddecorator(original):\n",
    "    return 42\n",
    "\n",
    "@badbaddecorator\n",
    "class Hello:\n",
    "    pass\n",
    "\n",
    "print(Hello)"
   ]
  },
  {
   "cell_type": "markdown",
   "metadata": {
    "slideshow": {
     "slide_type": "slide"
    }
   },
   "source": [
    "# Code as configuration\n",
    "## Venusian - A library for deferring decorator actions"
   ]
  },
  {
   "cell_type": "code",
   "execution_count": 15,
   "metadata": {
    "collapsed": false,
    "slideshow": {
     "slide_type": "subslide"
    }
   },
   "outputs": [
    {
     "name": "stdout",
     "output_type": "stream",
     "text": [
      "{'name': 'Python'} <class 'dict'>\n"
     ]
    }
   ],
   "source": [
    "def my_action():\n",
    "    return {\"name\": \"Python\"}\n",
    "\n",
    "res = my_action()\n",
    "print(res, type(res))"
   ]
  },
  {
   "cell_type": "code",
   "execution_count": 16,
   "metadata": {
    "collapsed": false,
    "slideshow": {
     "slide_type": "subslide"
    }
   },
   "outputs": [
    {
     "name": "stdout",
     "output_type": "stream",
     "text": [
      "{\"name\": \"Python\"} <class 'str'>\n"
     ]
    }
   ],
   "source": [
    "import json\n",
    "\n",
    "def json_output(original):\n",
    "    def wrapped():\n",
    "        result = original()\n",
    "        return json.dumps(result)\n",
    "    return wrapped\n",
    "\n",
    "@json_output\n",
    "def my_action():\n",
    "    return {\"name\": \"Python\"}\n",
    "\n",
    "res = my_action()\n",
    "print(res, type(res))"
   ]
  },
  {
   "cell_type": "code",
   "execution_count": 17,
   "metadata": {
    "collapsed": false,
    "slideshow": {
     "slide_type": "subslide"
    }
   },
   "outputs": [
    {
     "name": "stdout",
     "output_type": "stream",
     "text": [
      "{'name': 'Python'} <class 'dict'>\n"
     ]
    }
   ],
   "source": [
    "import venusian\n",
    "\n",
    "def json_output(original):\n",
    "    def callback(scanner, name, ob):\n",
    "        def wrapped():\n",
    "            result = original()\n",
    "            return json.dumps(result)\n",
    "        scanner.registry.append((name, wrapped))\n",
    "    venusian.attach(original, callback)\n",
    "    return original\n",
    "\n",
    "@json_output\n",
    "def my_action():\n",
    "    return {\"name\": \"Python\"}\n",
    "\n",
    "res = my_action()\n",
    "print(res, type(res))"
   ]
  },
  {
   "cell_type": "code",
   "execution_count": 18,
   "metadata": {
    "collapsed": false,
    "slideshow": {
     "slide_type": "subslide"
    }
   },
   "outputs": [
    {
     "data": {
      "text/plain": [
       "[('my_action',\n",
       "  <function __main__.json_output.<locals>.callback.<locals>.wrapped>)]"
      ]
     },
     "execution_count": 18,
     "metadata": {},
     "output_type": "execute_result"
    }
   ],
   "source": [
    "import sys\n",
    "\n",
    "registry = []\n",
    "scanner = venusian.Scanner(registry=registry)\n",
    "scanner.scan(sys.modules[__name__])\n",
    "\n",
    "registry"
   ]
  },
  {
   "cell_type": "code",
   "execution_count": 19,
   "metadata": {
    "collapsed": false,
    "slideshow": {
     "slide_type": "subslide"
    }
   },
   "outputs": [
    {
     "name": "stdout",
     "output_type": "stream",
     "text": [
      "{\"name\": \"Python\"} <class 'str'>\n"
     ]
    }
   ],
   "source": [
    "res = registry[0][1]()\n",
    "print(res, type(res))"
   ]
  },
  {
   "cell_type": "markdown",
   "metadata": {
    "slideshow": {
     "slide_type": "slide"
    }
   },
   "source": [
    "## Dectate - A configuration engine for Python frameworks\n"
   ]
  },
  {
   "cell_type": "code",
   "execution_count": 20,
   "metadata": {
    "collapsed": true,
    "slideshow": {
     "slide_type": "subslide"
    }
   },
   "outputs": [],
   "source": [
    "import dectate\n",
    "\n",
    "class MyFilters(dectate.App):\n",
    "    pass"
   ]
  },
  {
   "cell_type": "code",
   "execution_count": 21,
   "metadata": {
    "collapsed": false,
    "slideshow": {
     "slide_type": "subslide"
    }
   },
   "outputs": [],
   "source": [
    "@MyFilters.directive('filter')\n",
    "class FilterActions(dectate.Action):\n",
    "    config = {\n",
    "       'filters': dict\n",
    "    }\n",
    "    def __init__(self, name):\n",
    "        self.name = name\n",
    "\n",
    "    def identifier(self, filters):\n",
    "        return self.name\n",
    "\n",
    "    def perform(self, obj, filters):\n",
    "        filters[self.name] = obj"
   ]
  },
  {
   "cell_type": "code",
   "execution_count": 22,
   "metadata": {
    "collapsed": false,
    "slideshow": {
     "slide_type": "subslide"
    }
   },
   "outputs": [
    {
     "name": "stdout",
     "output_type": "stream",
     "text": [
      "{'yaml': <function to_yaml at 0x10cc241e0>, 'json': <function to_json at 0x10cc24bf8>}\n"
     ]
    }
   ],
   "source": [
    "@MyFilters.filter('json')\n",
    "def to_json():\n",
    "    pass \n",
    "\n",
    "@MyFilters.filter('yaml')\n",
    "def to_yaml():\n",
    "    pass\n",
    "\n",
    "dectate.commit(MyFilters)\n",
    "\n",
    "print(MyFilters.config.filters)"
   ]
  },
  {
   "cell_type": "code",
   "execution_count": 23,
   "metadata": {
    "collapsed": false,
    "slideshow": {
     "slide_type": "subslide"
    }
   },
   "outputs": [
    {
     "ename": "ConflictError",
     "evalue": "Conflict between:\n  File \"<ipython-input-22-8caa4ff29457>\", line 1\n    def to_json():\n  File \"<ipython-input-23-1af76039f7f4>\", line 1\n    def to_json_super():",
     "output_type": "error",
     "traceback": [
      "\u001b[0;31m---------------------------------------------------------------------------\u001b[0m",
      "\u001b[0;31mConflictError\u001b[0m                             Traceback (most recent call last)",
      "\u001b[0;32m<ipython-input-23-1af76039f7f4>\u001b[0m in \u001b[0;36m<module>\u001b[0;34m()\u001b[0m\n\u001b[1;32m      3\u001b[0m     \u001b[0;32mpass\u001b[0m\u001b[0;34m\u001b[0m\u001b[0m\n\u001b[1;32m      4\u001b[0m \u001b[0;34m\u001b[0m\u001b[0m\n\u001b[0;32m----> 5\u001b[0;31m \u001b[0mdectate\u001b[0m\u001b[0;34m.\u001b[0m\u001b[0mcommit\u001b[0m\u001b[0;34m(\u001b[0m\u001b[0mMyFilters\u001b[0m\u001b[0;34m)\u001b[0m\u001b[0;34m\u001b[0m\u001b[0m\n\u001b[0m",
      "\u001b[0;32m/Users/alff/Projects/talks_n_demos/decorators/env/lib/python3.5/site-packages/dectate/config.py\u001b[0m in \u001b[0;36mcommit\u001b[0;34m(*apps)\u001b[0m\n\u001b[1;32m    802\u001b[0m \u001b[0;34m\u001b[0m\u001b[0m\n\u001b[1;32m    803\u001b[0m     \u001b[0;32mfor\u001b[0m \u001b[0mconfigurable\u001b[0m \u001b[0;32min\u001b[0m \u001b[0msort_configurables\u001b[0m\u001b[0;34m(\u001b[0m\u001b[0mconfigurables\u001b[0m\u001b[0;34m)\u001b[0m\u001b[0;34m:\u001b[0m\u001b[0;34m\u001b[0m\u001b[0m\n\u001b[0;32m--> 804\u001b[0;31m         \u001b[0mconfigurable\u001b[0m\u001b[0;34m.\u001b[0m\u001b[0mexecute\u001b[0m\u001b[0;34m(\u001b[0m\u001b[0;34m)\u001b[0m\u001b[0;34m\u001b[0m\u001b[0m\n\u001b[0m\u001b[1;32m    805\u001b[0m \u001b[0;34m\u001b[0m\u001b[0m\n\u001b[1;32m    806\u001b[0m \u001b[0;34m\u001b[0m\u001b[0m\n",
      "\u001b[0;32m/Users/alff/Projects/talks_n_demos/decorators/env/lib/python3.5/site-packages/dectate/config.py\u001b[0m in \u001b[0;36mexecute\u001b[0;34m(self)\u001b[0m\n\u001b[1;32m    216\u001b[0m         \u001b[0mself\u001b[0m\u001b[0;34m.\u001b[0m\u001b[0mgroup_actions\u001b[0m\u001b[0;34m(\u001b[0m\u001b[0;34m)\u001b[0m\u001b[0;34m\u001b[0m\u001b[0m\n\u001b[1;32m    217\u001b[0m         \u001b[0;32mfor\u001b[0m \u001b[0maction_class\u001b[0m \u001b[0;32min\u001b[0m \u001b[0msort_action_classes\u001b[0m\u001b[0;34m(\u001b[0m\u001b[0mself\u001b[0m\u001b[0;34m.\u001b[0m\u001b[0m_action_groups\u001b[0m\u001b[0;34m.\u001b[0m\u001b[0mkeys\u001b[0m\u001b[0;34m(\u001b[0m\u001b[0;34m)\u001b[0m\u001b[0;34m)\u001b[0m\u001b[0;34m:\u001b[0m\u001b[0;34m\u001b[0m\u001b[0m\n\u001b[0;32m--> 218\u001b[0;31m             \u001b[0mself\u001b[0m\u001b[0;34m.\u001b[0m\u001b[0m_action_groups\u001b[0m\u001b[0;34m[\u001b[0m\u001b[0maction_class\u001b[0m\u001b[0;34m]\u001b[0m\u001b[0;34m.\u001b[0m\u001b[0mexecute\u001b[0m\u001b[0;34m(\u001b[0m\u001b[0mself\u001b[0m\u001b[0;34m)\u001b[0m\u001b[0;34m\u001b[0m\u001b[0m\n\u001b[0m\u001b[1;32m    219\u001b[0m         \u001b[0mself\u001b[0m\u001b[0;34m.\u001b[0m\u001b[0mcommitted\u001b[0m \u001b[0;34m=\u001b[0m \u001b[0;32mTrue\u001b[0m\u001b[0;34m\u001b[0m\u001b[0m\n\u001b[1;32m    220\u001b[0m \u001b[0;34m\u001b[0m\u001b[0m\n",
      "\u001b[0;32m/Users/alff/Projects/talks_n_demos/decorators/env/lib/python3.5/site-packages/dectate/config.py\u001b[0m in \u001b[0;36mexecute\u001b[0;34m(self, configurable)\u001b[0m\n\u001b[1;32m    305\u001b[0m           \u001b[0mthe\u001b[0m \u001b[0mactions\u001b[0m \u001b[0magainst\u001b[0m\u001b[0;34m.\u001b[0m\u001b[0;34m\u001b[0m\u001b[0m\n\u001b[1;32m    306\u001b[0m         \"\"\"\n\u001b[0;32m--> 307\u001b[0;31m         \u001b[0mself\u001b[0m\u001b[0;34m.\u001b[0m\u001b[0mprepare\u001b[0m\u001b[0;34m(\u001b[0m\u001b[0mconfigurable\u001b[0m\u001b[0;34m)\u001b[0m\u001b[0;34m\u001b[0m\u001b[0m\n\u001b[0m\u001b[1;32m    308\u001b[0m \u001b[0;34m\u001b[0m\u001b[0m\n\u001b[1;32m    309\u001b[0m         \u001b[0mkw\u001b[0m \u001b[0;34m=\u001b[0m \u001b[0mself\u001b[0m\u001b[0;34m.\u001b[0m\u001b[0maction_class\u001b[0m\u001b[0;34m.\u001b[0m\u001b[0m_get_config_kw\u001b[0m\u001b[0;34m(\u001b[0m\u001b[0mconfigurable\u001b[0m\u001b[0;34m)\u001b[0m\u001b[0;34m\u001b[0m\u001b[0m\n",
      "\u001b[0;32m/Users/alff/Projects/talks_n_demos/decorators/env/lib/python3.5/site-packages/dectate/config.py\u001b[0m in \u001b[0;36mprepare\u001b[0;34m(self, configurable)\u001b[0m\n\u001b[1;32m    268\u001b[0m                 \u001b[0mother_action\u001b[0m \u001b[0;34m=\u001b[0m \u001b[0mdiscriminators\u001b[0m\u001b[0;34m.\u001b[0m\u001b[0mget\u001b[0m\u001b[0;34m(\u001b[0m\u001b[0mdisc\u001b[0m\u001b[0;34m)\u001b[0m\u001b[0;34m\u001b[0m\u001b[0m\n\u001b[1;32m    269\u001b[0m                 \u001b[0;32mif\u001b[0m \u001b[0mother_action\u001b[0m \u001b[0;32mis\u001b[0m \u001b[0;32mnot\u001b[0m \u001b[0;32mNone\u001b[0m\u001b[0;34m:\u001b[0m\u001b[0;34m\u001b[0m\u001b[0m\n\u001b[0;32m--> 270\u001b[0;31m                     \u001b[0;32mraise\u001b[0m \u001b[0mConflictError\u001b[0m\u001b[0;34m(\u001b[0m\u001b[0;34m[\u001b[0m\u001b[0maction\u001b[0m\u001b[0;34m,\u001b[0m \u001b[0mother_action\u001b[0m\u001b[0;34m]\u001b[0m\u001b[0;34m)\u001b[0m\u001b[0;34m\u001b[0m\u001b[0m\n\u001b[0m\u001b[1;32m    271\u001b[0m                 \u001b[0mdiscriminators\u001b[0m\u001b[0;34m[\u001b[0m\u001b[0mdisc\u001b[0m\u001b[0;34m]\u001b[0m \u001b[0;34m=\u001b[0m \u001b[0maction\u001b[0m\u001b[0;34m\u001b[0m\u001b[0m\n\u001b[1;32m    272\u001b[0m             \u001b[0maction_map\u001b[0m\u001b[0;34m[\u001b[0m\u001b[0mid\u001b[0m\u001b[0;34m]\u001b[0m \u001b[0;34m=\u001b[0m \u001b[0maction\u001b[0m\u001b[0;34m,\u001b[0m \u001b[0mobj\u001b[0m\u001b[0;34m\u001b[0m\u001b[0m\n",
      "\u001b[0;31mConflictError\u001b[0m: Conflict between:\n  File \"<ipython-input-22-8caa4ff29457>\", line 1\n    def to_json():\n  File \"<ipython-input-23-1af76039f7f4>\", line 1\n    def to_json_super():"
     ]
    }
   ],
   "source": [
    "@MyFilters.filter('json')\n",
    "def to_json_super():\n",
    "    pass\n",
    "\n",
    "dectate.commit(MyFilters)"
   ]
  },
  {
   "cell_type": "code",
   "execution_count": null,
   "metadata": {
    "collapsed": true
   },
   "outputs": [],
   "source": []
  }
 ],
 "metadata": {
  "celltoolbar": "Slideshow",
  "kernelspec": {
   "display_name": "Python 3",
   "language": "python",
   "name": "python3"
  },
  "language_info": {
   "codemirror_mode": {
    "name": "ipython",
    "version": 3
   },
   "file_extension": ".py",
   "mimetype": "text/x-python",
   "name": "python",
   "nbconvert_exporter": "python",
   "pygments_lexer": "ipython3",
   "version": "3.5.1"
  }
 },
 "nbformat": 4,
 "nbformat_minor": 1
}
