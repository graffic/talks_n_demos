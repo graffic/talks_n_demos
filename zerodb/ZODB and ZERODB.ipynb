{
 "cells": [
  {
   "cell_type": "markdown",
   "metadata": {},
   "source": [
    "# Introduction\n",
    "\n",
    "* Name: / Javier / Χαβιέρ \n",
    "* Digital A.I.R\n",
    "* Python-fan-person"
   ]
  },
  {
   "cell_type": "markdown",
   "metadata": {
    "slideshow": {
     "slide_type": "slide"
    }
   },
   "source": [
    "# Pickles"
   ]
  },
  {
   "cell_type": "code",
   "execution_count": 1,
   "metadata": {
    "collapsed": false,
    "slideshow": {
     "slide_type": "slide"
    }
   },
   "outputs": [
    {
     "data": {
      "text/plain": [
       "42"
      ]
     },
     "execution_count": 1,
     "metadata": {},
     "output_type": "execute_result"
    }
   ],
   "source": [
    "class Account:\n",
    "    def __init__(self, name):\n",
    "        self.amount = 0\n",
    "        self.name = name\n",
    "\n",
    "    def add(self, amount):\n",
    "        self.amount += amount\n",
    "\n",
    "my_account = Account(\"Javier\")\n",
    "my_account.add(42)\n",
    "my_account.amount"
   ]
  },
  {
   "cell_type": "code",
   "execution_count": 2,
   "metadata": {
    "collapsed": false,
    "slideshow": {
     "slide_type": "slide"
    }
   },
   "outputs": [
    {
     "data": {
      "text/plain": [
       "b'\\x80\\x03c__main__\\nAccount\\nq\\x00)\\x81q\\x01}q\\x02(X\\x04\\x00\\x00\\x00nameq\\x03X\\x06\\x00\\x00\\x00Javierq\\x04X\\x06\\x00\\x00\\x00amountq\\x05K*ub.'"
      ]
     },
     "execution_count": 2,
     "metadata": {},
     "output_type": "execute_result"
    }
   ],
   "source": [
    "import pickle\n",
    "\n",
    "account_pickle = pickle.dumps(my_account)\n",
    "account_pickle"
   ]
  },
  {
   "cell_type": "code",
   "execution_count": 3,
   "metadata": {
    "collapsed": false,
    "slideshow": {
     "slide_type": "slide"
    }
   },
   "outputs": [
    {
     "name": "stdout",
     "output_type": "stream",
     "text": [
      "42 Javier\n"
     ]
    }
   ],
   "source": [
    "other_account = pickle.loads(account_pickle)\n",
    "print(other_account.amount, other_account.name)\n"
   ]
  },
  {
   "cell_type": "code",
   "execution_count": 4,
   "metadata": {
    "collapsed": false
   },
   "outputs": [
    {
     "data": {
      "text/plain": [
       "(4452866536, 4452918160)"
      ]
     },
     "execution_count": 4,
     "metadata": {},
     "output_type": "execute_result"
    }
   ],
   "source": [
    "(id(my_account),id(other_account))"
   ]
  },
  {
   "cell_type": "markdown",
   "metadata": {},
   "source": [
    "# ZODB"
   ]
  },
  {
   "cell_type": "code",
   "execution_count": 5,
   "metadata": {
    "collapsed": false
   },
   "outputs": [],
   "source": [
    "import persistent\n",
    "\n",
    "class Account(persistent.Persistent):\n",
    "    def __init__(self):\n",
    "        self.__amount = 0\n",
    "    @property\n",
    "    def amount(self):\n",
    "        return self.__amount\n",
    "\n",
    "    def add(self, amount):\n",
    "        self.__amount += amount"
   ]
  },
  {
   "cell_type": "code",
   "execution_count": 6,
   "metadata": {
    "collapsed": false
   },
   "outputs": [
    {
     "name": "stdout",
     "output_type": "stream",
     "text": [
      "<root: accounts myaccount>\n"
     ]
    }
   ],
   "source": [
    "import ZODB\n",
    "import ZODB.FileStorage        \n",
    "        \n",
    "\n",
    "storage = ZODB.FileStorage.FileStorage('bank.fs')\n",
    "db = ZODB.DB(storage)\n",
    "connection = db.open()\n",
    "root = connection.root\n",
    "\n",
    "myaccount = Account()\n",
    "myaccount.add(50)\n",
    "root.myaccount = myaccount\n",
    "print(root)\n",
    "\n",
    "storage.close()\n",
    "db.close()\n",
    "\n",
    "\n"
   ]
  },
  {
   "cell_type": "code",
   "execution_count": 7,
   "metadata": {
    "collapsed": false
   },
   "outputs": [
    {
     "name": "stdout",
     "output_type": "stream",
     "text": [
      "<root: accounts>\n"
     ]
    }
   ],
   "source": [
    "storage = ZODB.FileStorage.FileStorage('bank.fs')\n",
    "db = ZODB.DB(storage)\n",
    "connection = db.open()\n",
    "root = connection.root\n",
    "\n",
    "print(root)"
   ]
  },
  {
   "cell_type": "code",
   "execution_count": 8,
   "metadata": {
    "collapsed": false
   },
   "outputs": [
    {
     "name": "stdout",
     "output_type": "stream",
     "text": [
      "50\n"
     ]
    }
   ],
   "source": [
    "import transaction\n",
    "\n",
    "myaccount = Account()\n",
    "myaccount.add(50)\n",
    "print(myaccount.amount)\n",
    "root.myaccount = myaccount\n",
    "transaction.commit()\n",
    "\n",
    "storage.close()\n",
    "db.close()"
   ]
  },
  {
   "cell_type": "code",
   "execution_count": 9,
   "metadata": {
    "collapsed": false
   },
   "outputs": [
    {
     "name": "stdout",
     "output_type": "stream",
     "text": [
      "50\n"
     ]
    }
   ],
   "source": [
    "storage = ZODB.FileStorage.FileStorage('bank.fs')\n",
    "db = ZODB.DB(storage)\n",
    "connection = db.open()\n",
    "root = connection.root\n",
    "\n",
    "print(root.myaccount.amount)\n",
    "\n",
    "\n",
    "storage.close()\n",
    "db.close()"
   ]
  },
  {
   "cell_type": "markdown",
   "metadata": {},
   "source": [
    "# Indexes"
   ]
  },
  {
   "cell_type": "code",
   "execution_count": 10,
   "metadata": {
    "collapsed": true
   },
   "outputs": [],
   "source": [
    "class DemoZODB:\n",
    "    def __init__(self, filename):\n",
    "        self.storage = ZODB.FileStorage.FileStorage(filename)\n",
    "        self.db = ZODB.DB(self.storage)\n",
    "        self.connection = self.db.open()\n",
    "        self.root = self.connection.root\n",
    "    def __enter__(self):\n",
    "        return self.root\n",
    "    def __exit__(self, type, value, traceback):\n",
    "        transaction.commit()\n",
    "        self.db.close()\n",
    "        self.storage.close()"
   ]
  },
  {
   "cell_type": "code",
   "execution_count": 11,
   "metadata": {
    "collapsed": false
   },
   "outputs": [
    {
     "name": "stdout",
     "output_type": "stream",
     "text": [
      "50\n"
     ]
    }
   ],
   "source": [
    "from BTrees.OOBTree import OOBTree\n",
    "\n",
    "with DemoZODB('bank.fs') as root:\n",
    "    root.accounts = OOBTree()\n",
    "    root.accounts[\"Javier\"] = root.myaccount\n",
    "    del root.myaccount\n",
    "\n",
    "with DemoZODB('bank.fs') as root:\n",
    "    print(root.accounts[\"Javier\"].amount)\n",
    "    "
   ]
  },
  {
   "cell_type": "markdown",
   "metadata": {},
   "source": [
    "## MOAR Indexes\n",
    "\n",
    "`repoze.catalog` Only for python 2.x\n",
    "\n",
    "```\n",
    "from repoze.catalog.indexes.field import CatalogFieldIndex\n",
    "​\n",
    "  File \"/Users/alff/Projects/pybkk/.env/lib/python3.5/site-packages/repoze/catalog/indexes/field.py\", line 183\n",
    "    raise RuntimeError, 'n-best used without limit'\n",
    "                      ^\n",
    "SyntaxError: invalid syntax\n",
    "```"
   ]
  },
  {
   "cell_type": "markdown",
   "metadata": {
    "collapsed": true
   },
   "source": [
    "# ZeroDB"
   ]
  },
  {
   "cell_type": "code",
   "execution_count": 12,
   "metadata": {
    "collapsed": false
   },
   "outputs": [],
   "source": [
    "from zerodb.models import Model, Field\n",
    "\n",
    "class Account(Model):\n",
    "    owner = Field()\n",
    "    amount = Field()\n",
    "\n",
    "    def __init__(self, owner):\n",
    "        self.amount = 0\n",
    "        self.owner = owner\n",
    "    def substract(self, amount):\n",
    "        self.amount -= amount\n",
    "    def add(self, amount):\n",
    "        self.amount += amount\n",
    "        \n",
    "my_account = Account(\"Javier\")\n",
    "my_account.add(42)\n",
    "dog_account = Account(\"Dog\")"
   ]
  },
  {
   "cell_type": "code",
   "execution_count": 13,
   "metadata": {
    "collapsed": false
   },
   "outputs": [],
   "source": [
    "username = \"javier\"\n",
    "password = \"javier\"\n",
    "\n",
    "import transaction\n",
    "import zerodb\n",
    "\n",
    "\n",
    "db = zerodb.DB((\"localhost\", 8001), username=username, password=password)\n",
    "db.add(my_account)\n",
    "transaction.get().note(\"Adding my account\")\n",
    "transaction.commit()\n",
    "\n",
    "db.add(dog_account)\n",
    "transaction.get().note(\"Adding dog account\")\n",
    "transaction.commit()\n",
    "db.disconnect()"
   ]
  },
  {
   "cell_type": "code",
   "execution_count": 14,
   "metadata": {
    "collapsed": false
   },
   "outputs": [
    {
     "name": "stdout",
     "output_type": "stream",
     "text": [
      "['Javier', 'Dog']\n"
     ]
    }
   ],
   "source": [
    "db = zerodb.DB((\"localhost\", 8001), username=username, password=password)\n",
    "print([x.owner for x in db[Account].all()])\n",
    "db.disconnect()\n"
   ]
  },
  {
   "cell_type": "code",
   "execution_count": 15,
   "metadata": {
    "collapsed": false
   },
   "outputs": [
    {
     "name": "stdout",
     "output_type": "stream",
     "text": [
      "[]\n"
     ]
    }
   ],
   "source": [
    "def list_dog():\n",
    "    db = zerodb.DB((\"localhost\", 8001), username=\"dog\", password=\"dog\")\n",
    "    print([x.owner for x in db[Account].all()])\n",
    "    db.disconnect()\n",
    "list_dog()"
   ]
  },
  {
   "cell_type": "code",
   "execution_count": 16,
   "metadata": {
    "collapsed": true
   },
   "outputs": [],
   "source": [
    "db = zerodb.DB((\"localhost\", 8001), username=\"dog\", password=\"dog\")\n",
    "db.add(Account(\"Someone\"))\n",
    "transaction.commit()\n",
    "db.disconnect()"
   ]
  },
  {
   "cell_type": "code",
   "execution_count": 17,
   "metadata": {
    "collapsed": false
   },
   "outputs": [
    {
     "name": "stdout",
     "output_type": "stream",
     "text": [
      "['Someone']\n"
     ]
    }
   ],
   "source": [
    "list_dog()"
   ]
  },
  {
   "cell_type": "markdown",
   "metadata": {},
   "source": [
    "## Indexing"
   ]
  },
  {
   "cell_type": "code",
   "execution_count": 18,
   "metadata": {
    "collapsed": false
   },
   "outputs": [
    {
     "name": "stdout",
     "output_type": "stream",
     "text": [
      "['Javier']\n"
     ]
    }
   ],
   "source": [
    "from zerodb.query import Gt\n",
    "\n",
    "db = zerodb.DB((\"localhost\", 8001), username=username, password=password)\n",
    "print([x.owner for x in db[Account].query(Gt(\"amount\", 4))])\n",
    "db.disconnect()\n",
    "\n"
   ]
  },
  {
   "cell_type": "code",
   "execution_count": null,
   "metadata": {
    "collapsed": true
   },
   "outputs": [],
   "source": []
  }
 ],
 "metadata": {
  "celltoolbar": "Raw Cell Format",
  "kernelspec": {
   "display_name": "Python 3",
   "language": "python",
   "name": "python3"
  },
  "language_info": {
   "codemirror_mode": {
    "name": "ipython",
    "version": 3
   },
   "file_extension": ".py",
   "mimetype": "text/x-python",
   "name": "python",
   "nbconvert_exporter": "python",
   "pygments_lexer": "ipython3",
   "version": "3.5.1"
  }
 },
 "nbformat": 4,
 "nbformat_minor": 0
}
